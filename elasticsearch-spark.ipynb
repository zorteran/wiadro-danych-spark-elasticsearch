{
 "cells": [
  {
   "cell_type": "code",
   "execution_count": 19,
   "metadata": {},
   "outputs": [],
   "source": [
    "from pyspark import SparkContext, SparkConf\n",
    "from pyspark.sql import SQLContext\n",
    "import pyspark.sql.functions as F"
   ]
  },
  {
   "cell_type": "markdown",
   "metadata": {},
   "source": [
    "## Load from ES"
   ]
  },
  {
   "cell_type": "markdown",
   "metadata": {},
   "source": [
    "reader = spark.read.format(\"org.elasticsearch.spark.sql\")\\\n",
    "                .option(\"es.read.metadata\", \"true\")\\\n",
    "                .option(\"es.nodes.wan.only\",\"true\")\\\n",
    "                .option(\"es.port\",\"9200\")\\\n",
    "                .option(\"es.net.ssl\",\"false\")\\\n",
    "                .option(\"es.nodes\", \"http://localhost\")\\"
   ]
  },
  {
   "cell_type": "code",
   "execution_count": 3,
   "metadata": {},
   "outputs": [],
   "source": [
    "df = reader.load(\"just_testing_witcher\")"
   ]
  },
  {
   "cell_type": "code",
   "execution_count": 4,
   "metadata": {},
   "outputs": [
    {
     "name": "stdout",
     "output_type": "stream",
     "text": [
      "+--------+----------+------+--------------------+\n",
      "|    name|profession|school|           _metadata|\n",
      "+--------+----------+------+--------------------+\n",
      "|  Geralt|   Witcher|  Wolf|[_index -> just_t...|\n",
      "|   Letho|   Witcher| Viper|[_index -> just_t...|\n",
      "|Yennefer|      Mage|  null|[_index -> just_t...|\n",
      "| Jaskier|      Bard|  null|[_index -> just_t...|\n",
      "|   Triss|      Mage|  null|[_index -> just_t...|\n",
      "+--------+----------+------+--------------------+\n",
      "\n"
     ]
    }
   ],
   "source": [
    "df.show()"
   ]
  },
  {
   "cell_type": "markdown",
   "metadata": {},
   "source": [
    "## Load from ES with query"
   ]
  },
  {
   "cell_type": "code",
   "execution_count": 97,
   "metadata": {},
   "outputs": [],
   "source": [
    "reader = spark.read.format(\"org.elasticsearch.spark.sql\")\\\n",
    "                .option(\"es.read.metadata\", \"true\")\\\n",
    "                .option(\"es.nodes.wan.only\",\"true\")\\\n",
    "                .option(\"es.port\",\"9200\")\\\n",
    "                .option(\"es.net.ssl\",\"false\")\\\n",
    "                .option(\"es.nodes\", \"http://localhost\")\\\n",
    "                .option(\"es.query\", \"\"\"{\"query\": { \"query_string\": { \"query\": \"*ag*\" } } }\"\"\")"
   ]
  },
  {
   "cell_type": "code",
   "execution_count": 100,
   "metadata": {},
   "outputs": [],
   "source": [
    "df = reader.load(\"just_testing_witcher\")"
   ]
  },
  {
   "cell_type": "code",
   "execution_count": 101,
   "metadata": {},
   "outputs": [
    {
     "name": "stdout",
     "output_type": "stream",
     "text": [
      "+--------+----------+------+--------------------+\n",
      "|    name|profession|school|           _metadata|\n",
      "+--------+----------+------+--------------------+\n",
      "|Yennefer|      Mage|  null|[_index -> just_t...|\n",
      "|   Triss|      Mage|  null|[_index -> just_t...|\n",
      "+--------+----------+------+--------------------+\n",
      "\n"
     ]
    }
   ],
   "source": [
    "df.show()"
   ]
  },
  {
   "cell_type": "markdown",
   "metadata": {},
   "source": [
    "# Save to ES"
   ]
  },
  {
   "cell_type": "markdown",
   "metadata": {},
   "source": [
    "### Reading MovieLens dataset"
   ]
  },
  {
   "cell_type": "code",
   "execution_count": 7,
   "metadata": {},
   "outputs": [],
   "source": [
    "path = \"./ml-latest-small/\""
   ]
  },
  {
   "cell_type": "code",
   "execution_count": 8,
   "metadata": {},
   "outputs": [],
   "source": [
    "movies = spark.read.format(\"csv\")\\\n",
    "    .option(\"header\", \"true\")\\\n",
    "    .option(\"inferSchema\", \"true\")\\\n",
    "    .load(path + \"movies.csv\")"
   ]
  },
  {
   "cell_type": "code",
   "execution_count": 13,
   "metadata": {},
   "outputs": [],
   "source": [
    "ratings = spark.read.format(\"csv\")\\\n",
    "    .option(\"header\", \"true\")\\\n",
    "    .option(\"inferSchema\", \"true\")\\\n",
    "    .load(path + \"ratings.csv\")\n"
   ]
  },
  {
   "cell_type": "code",
   "execution_count": 27,
   "metadata": {},
   "outputs": [],
   "source": [
    "tags = spark.read.format(\"csv\")\\\n",
    "    .option(\"header\", \"true\")\\\n",
    "    .option(\"inferSchema\", \"true\")\\\n",
    "    .load(path + \"tags.csv\")"
   ]
  },
  {
   "cell_type": "code",
   "execution_count": 29,
   "metadata": {},
   "outputs": [],
   "source": [
    "movies.createOrReplaceTempView(\"movies\")\n",
    "ratings.createOrReplaceTempView(\"ratings\")\n",
    "tags.createOrReplaceTempView(\"tags\")"
   ]
  },
  {
   "cell_type": "code",
   "execution_count": 11,
   "metadata": {},
   "outputs": [
    {
     "name": "stdout",
     "output_type": "stream",
     "text": [
      "+-------+--------------------+--------------------+\n",
      "|movieId|               title|              genres|\n",
      "+-------+--------------------+--------------------+\n",
      "|      1|    Toy Story (1995)|Adventure|Animati...|\n",
      "|      2|      Jumanji (1995)|Adventure|Childre...|\n",
      "|      3|Grumpier Old Men ...|      Comedy|Romance|\n",
      "+-------+--------------------+--------------------+\n",
      "only showing top 3 rows\n",
      "\n"
     ]
    }
   ],
   "source": [
    "movies.show(3)"
   ]
  },
  {
   "cell_type": "code",
   "execution_count": 28,
   "metadata": {},
   "outputs": [
    {
     "name": "stdout",
     "output_type": "stream",
     "text": [
      "+------+-------+---------------+----------+\n",
      "|userId|movieId|            tag| timestamp|\n",
      "+------+-------+---------------+----------+\n",
      "|     2|  60756|          funny|1445714994|\n",
      "|     2|  60756|Highly quotable|1445714996|\n",
      "|     2|  60756|   will ferrell|1445714992|\n",
      "+------+-------+---------------+----------+\n",
      "only showing top 3 rows\n",
      "\n"
     ]
    }
   ],
   "source": [
    "tags.show(3)"
   ]
  },
  {
   "cell_type": "code",
   "execution_count": 30,
   "metadata": {},
   "outputs": [
    {
     "name": "stdout",
     "output_type": "stream",
     "text": [
      "+------+-------+------+---------+\n",
      "|userId|movieId|rating|timestamp|\n",
      "+------+-------+------+---------+\n",
      "|     1|      1|   4.0|964982703|\n",
      "|     1|      3|   4.0|964981247|\n",
      "|     1|      6|   4.0|964982224|\n",
      "+------+-------+------+---------+\n",
      "only showing top 3 rows\n",
      "\n"
     ]
    }
   ],
   "source": [
    "ratings.show(3)"
   ]
  },
  {
   "cell_type": "markdown",
   "metadata": {},
   "source": [
    "### Let's create a movies with tags and genres in one table"
   ]
  },
  {
   "cell_type": "code",
   "execution_count": 34,
   "metadata": {},
   "outputs": [],
   "source": [
    "tags_materialized = tags.groupBy('movieId').agg(F.collect_set('tag').alias('tags'))"
   ]
  },
  {
   "cell_type": "code",
   "execution_count": 36,
   "metadata": {},
   "outputs": [],
   "source": [
    "tags_materialized.createOrReplaceTempView(\"tags_materialized\")"
   ]
  },
  {
   "cell_type": "code",
   "execution_count": 35,
   "metadata": {},
   "outputs": [
    {
     "name": "stdout",
     "output_type": "stream",
     "text": [
      "+-------+--------------+\n",
      "|movieId|          tags|\n",
      "+-------+--------------+\n",
      "|    471|   [hula hoop]|\n",
      "|   1088|[music, dance]|\n",
      "|   1580|      [aliens]|\n",
      "+-------+--------------+\n",
      "only showing top 3 rows\n",
      "\n"
     ]
    }
   ],
   "source": [
    "tags_materialized.show(3)"
   ]
  },
  {
   "cell_type": "code",
   "execution_count": 49,
   "metadata": {},
   "outputs": [],
   "source": [
    "movies_materialized = movies.select(\\\n",
    "                                F.col(\"movieId\"),\n",
    "                                F.col(\"title\"),\n",
    "                                F.split(F.col(\"genres\"), '\\|').alias(\"genres\")\\\n",
    "                            )"
   ]
  },
  {
   "cell_type": "code",
   "execution_count": 50,
   "metadata": {},
   "outputs": [],
   "source": [
    "movies_materialized.createOrReplaceTempView(\"movies_materialized\")"
   ]
  },
  {
   "cell_type": "code",
   "execution_count": 51,
   "metadata": {},
   "outputs": [
    {
     "name": "stdout",
     "output_type": "stream",
     "text": [
      "+-------+--------------------+--------------------+\n",
      "|movieId|               title|              genres|\n",
      "+-------+--------------------+--------------------+\n",
      "|      1|    Toy Story (1995)|[Adventure, Anima...|\n",
      "|      2|      Jumanji (1995)|[Adventure, Child...|\n",
      "|      3|Grumpier Old Men ...|   [Comedy, Romance]|\n",
      "+-------+--------------------+--------------------+\n",
      "only showing top 3 rows\n",
      "\n"
     ]
    }
   ],
   "source": [
    "movies_materialized.show(3)"
   ]
  },
  {
   "cell_type": "code",
   "execution_count": 52,
   "metadata": {},
   "outputs": [],
   "source": [
    "movies_complete = spark.sql(\"\"\"SELECT m.movieId, title, genres, tags\n",
    "                                FROM movies_materialized m\n",
    "                                LEFT JOIN tags_materialized t ON m.movieId = t.movieId\n",
    "                               \"\"\")"
   ]
  },
  {
   "cell_type": "code",
   "execution_count": 53,
   "metadata": {},
   "outputs": [
    {
     "name": "stdout",
     "output_type": "stream",
     "text": [
      "+-------+--------------------+--------------------+--------------------+\n",
      "|movieId|               title|              genres|                tags|\n",
      "+-------+--------------------+--------------------+--------------------+\n",
      "|      1|    Toy Story (1995)|[Adventure, Anima...|        [pixar, fun]|\n",
      "|      2|      Jumanji (1995)|[Adventure, Child...|[fantasy, game, m...|\n",
      "|      3|Grumpier Old Men ...|   [Comedy, Romance]|        [old, moldy]|\n",
      "+-------+--------------------+--------------------+--------------------+\n",
      "only showing top 3 rows\n",
      "\n"
     ]
    }
   ],
   "source": [
    "movies_complete.show(3)"
   ]
  },
  {
   "cell_type": "markdown",
   "metadata": {},
   "source": [
    "### Save to ES"
   ]
  },
  {
   "cell_type": "code",
   "execution_count": 60,
   "metadata": {},
   "outputs": [],
   "source": [
    "esURL = \"localhost\"\n",
    "\n",
    "movies_complete.write\\\n",
    "  .format(\"org.elasticsearch.spark.sql\")\\\n",
    "  .option(\"es.port\",\"9200\")\\\n",
    "  .option(\"es.net.ssl\",\"false\")\\\n",
    "  .option(\"es.nodes\", esURL)\\\n",
    "  .mode(\"Overwrite\")\\\n",
    "  .save(\"movielens\")"
   ]
  },
  {
   "cell_type": "markdown",
   "metadata": {},
   "source": [
    "### Let's prepare ratings with iso date"
   ]
  },
  {
   "cell_type": "code",
   "execution_count": 94,
   "metadata": {},
   "outputs": [],
   "source": [
    "ratings_materialized = ratings.select(\\\n",
    "                                        F.col(\"movieId\"),\\\n",
    "                                        F.col(\"userId\"),\\\n",
    "                                        F.col(\"rating\"),\\\n",
    "                                        F.col(\"timestamp\").alias(\"datetime\")\\\n",
    "                                    )"
   ]
  },
  {
   "cell_type": "code",
   "execution_count": 95,
   "metadata": {},
   "outputs": [
    {
     "name": "stdout",
     "output_type": "stream",
     "text": [
      "+-------+------+------+---------+\n",
      "|movieId|userId|rating| datetime|\n",
      "+-------+------+------+---------+\n",
      "|      1|     1|   4.0|964982703|\n",
      "|      3|     1|   4.0|964981247|\n",
      "|      6|     1|   4.0|964982224|\n",
      "+-------+------+------+---------+\n",
      "only showing top 3 rows\n",
      "\n"
     ]
    }
   ],
   "source": [
    "ratings_materialized.show(3)"
   ]
  },
  {
   "cell_type": "code",
   "execution_count": 96,
   "metadata": {},
   "outputs": [],
   "source": [
    "esURL = \"localhost\"\n",
    "\n",
    "ratings_materialized.write\\\n",
    "  .format(\"org.elasticsearch.spark.sql\")\\\n",
    "  .option(\"es.port\",\"9200\")\\\n",
    "  .option(\"es.net.ssl\",\"false\")\\\n",
    "  .option(\"es.nodes\", esURL)\\\n",
    "  .mode(\"Overwrite\")\\\n",
    "  .save(\"ratings\")"
   ]
  },
  {
   "cell_type": "code",
   "execution_count": null,
   "metadata": {},
   "outputs": [],
   "source": []
  }
 ],
 "metadata": {
  "kernelspec": {
   "display_name": "Python 3",
   "language": "python",
   "name": "python3"
  },
  "language_info": {
   "codemirror_mode": {
    "name": "ipython",
    "version": 3
   },
   "file_extension": ".py",
   "mimetype": "text/x-python",
   "name": "python",
   "nbconvert_exporter": "python",
   "pygments_lexer": "ipython3",
   "version": "3.7.5"
  }
 },
 "nbformat": 4,
 "nbformat_minor": 2
}
